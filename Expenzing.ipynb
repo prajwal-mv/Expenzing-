{
  "nbformat": 4,
  "nbformat_minor": 0,
  "metadata": {
    "colab": {
      "provenance": [],
      "authorship_tag": "ABX9TyO6Tqz4mdJTamZCTAtb9zun",
      "include_colab_link": true
    },
    "kernelspec": {
      "name": "python3",
      "display_name": "Python 3"
    },
    "language_info": {
      "name": "python"
    }
  },
  "cells": [
    {
      "cell_type": "markdown",
      "metadata": {
        "id": "view-in-github",
        "colab_type": "text"
      },
      "source": [
        "<a href=\"https://colab.research.google.com/github/prajwal-mv/Expenzing-/blob/main/Expenzing.ipynb\" target=\"_parent\"><img src=\"https://colab.research.google.com/assets/colab-badge.svg\" alt=\"Open In Colab\"/></a>"
      ]
    },
    {
      "cell_type": "markdown",
      "source": [
        "##Expenzing##"
      ],
      "metadata": {
        "id": "nESM1me3-iAe"
      }
    },
    {
      "cell_type": "markdown",
      "source": [
        "**Expenzing** offers a complete spend management suite encompassing Strategic Sourcing, Procure to Pay, Asset, and Travel & Expense Management. Whether opting for point solutions or the compreh\n",
        "ensive suite, implementation is fast, and savings are measurable within months."
      ],
      "metadata": {
        "id": "7qbeJKtr-Yh_"
      }
    },
    {
      "cell_type": "markdown",
      "source": [
        "**Procure to pay** is the process of requisitioning, purchasing, receiving, paying for and accounting for goods and services\n",
        "\n",
        "**Strategic sourcing** is a procurement process that connects data collection, spend analysis, market research, negotiation, and contracting. It stops short of the actual purchase of and payment for goods and services.\n",
        "\n"
      ],
      "metadata": {
        "id": "FwIlBEtU-2e3"
      }
    },
    {
      "cell_type": "markdown",
      "source": [
        "**Expense Management** :\n",
        "Businesses utilize expense management software to process, pay, and audit employee-initiated expenses. Our software includes capabilities for employees to input expenses for approval through a browser or mobile application. Expense management software simplifies and automates a business’ expense entry, streamlines review, eliminates paper trail, and reduces administrative effort. Expense management software allows administrators to have full visibility of and track employee use of business financial resources. Expense management software analyzes overall expenses, identifies cost-saving opportunities, and controls excessive spending. "
      ],
      "metadata": {
        "id": "DV5yVzjc_V6t"
      }
    },
    {
      "cell_type": "code",
      "source": [],
      "metadata": {
        "id": "XBr-UcMD_FI0"
      },
      "execution_count": null,
      "outputs": []
    }
  ]
}